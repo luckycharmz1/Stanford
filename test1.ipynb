{
 "cells": [
  {
   "cell_type": "code",
   "execution_count": 2,
   "metadata": {},
   "outputs": [
    {
     "ename": "SyntaxError",
     "evalue": "(unicode error) 'unicodeescape' codec can't decode bytes in position 2-3: truncated \\UXXXXXXXX escape (3150581935.py, line 8)",
     "output_type": "error",
     "traceback": [
      "\u001b[1;36m  Cell \u001b[1;32mIn[2], line 8\u001b[1;36m\u001b[0m\n\u001b[1;33m    directory = \"C:\\Users\\cwash\\Desktop\\Stanford\\E. Coli\"\u001b[0m\n\u001b[1;37m                                                         ^\u001b[0m\n\u001b[1;31mSyntaxError\u001b[0m\u001b[1;31m:\u001b[0m (unicode error) 'unicodeescape' codec can't decode bytes in position 2-3: truncated \\UXXXXXXXX escape\n"
     ]
    }
   ],
   "source": [
    "import pandas as pd\n",
    "import seaborn as sns\n",
    "from matplotlib import pyplot as plt\n",
    "import warnings\n",
    "warnings.filterwarnings(\"ignore\")\n",
    "\n",
    "#Directory\n",
    "directory = \"C:\\Users\\cwash\\Desktop\\Stanford\\E. Coli\"\n",
    "\n",
    "#Use panda to read source file\n",
    "gc = pd.read_excel(f{\"C:\\Users\\cwash\\Desktop\\Stanford\\E. Coli\\07-11-2024_E.Coli Cell Counting OD600nm.xlsx\"})\n",
    "\n",
    "\n",
    "fig,_ax = plt.subplots(figsize=[4,4]layout= 'constrained')\n",
    "\n",
    "sns.lineplot(data=gc, x='time', y = 'ln optical density' errorbar='ci',ax=_ax, marker=\"o\",markersize=5, color='black')\n",
    "\n",
    "_ax.set_yscale('Ln Optical Density (OD600nm)')\n",
    "_ax.set_ylabel('Culture density (cells/mL)', fontsize=9)\n",
    "_ax.set_xlabel('Time', fontsize=9)\n",
    "\n",
    "_ax.set_ylim(top = 1e9)\n",
    "_ax.set_xlim(right = 5.6)\n",
    "_ax.set_xticks([1,2,3,4,5])\n",
    "_ax.tick_params(axis = 'both')"
   ]
  }
 ],
 "metadata": {
  "interpreter": {
   "hash": "c261aea317cc0286b3b3261fbba9abdec21eaa57589985bb7a274bf54d6cc0a7"
  },
  "kernelspec": {
   "display_name": "Python 3.11.0 64-bit",
   "language": "python",
   "name": "python3"
  },
  "language_info": {
   "codemirror_mode": {
    "name": "ipython",
    "version": 3
   },
   "file_extension": ".py",
   "mimetype": "text/x-python",
   "name": "python",
   "nbconvert_exporter": "python",
   "pygments_lexer": "ipython3",
   "version": "3.11.0"
  },
  "orig_nbformat": 4
 },
 "nbformat": 4,
 "nbformat_minor": 2
}
