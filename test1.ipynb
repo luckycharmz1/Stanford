{
 "cells": [
  {
   "cell_type": "code",
   "execution_count": 6,
   "metadata": {},
   "outputs": [
    {
     "ename": "NameError",
     "evalue": "name 'exp_dir' is not defined",
     "output_type": "error",
     "traceback": [
      "\u001b[1;31m---------------------------------------------------------------------------\u001b[0m",
      "\u001b[1;31mNameError\u001b[0m                                 Traceback (most recent call last)",
      "Cell \u001b[1;32mIn[6], line 4\u001b[0m\n\u001b[0;32m      1\u001b[0m \u001b[38;5;28;01mimport\u001b[39;00m \u001b[38;5;21;01mglob\u001b[39;00m\u001b[38;5;241m,\u001b[39m \u001b[38;5;21;01mos\u001b[39;00m\n\u001b[0;32m      3\u001b[0m directory \u001b[38;5;241m=\u001b[39m \u001b[38;5;124m\"\u001b[39m\u001b[38;5;124m\\\u001b[39m\u001b[38;5;124mDesktop\u001b[39m\u001b[38;5;124m\\\u001b[39m\u001b[38;5;124mStanford\u001b[39m\u001b[38;5;124m\\\u001b[39m\u001b[38;5;124mE. Coli\u001b[39m\u001b[38;5;124m\"\u001b[39m\n\u001b[1;32m----> 4\u001b[0m filelist \u001b[38;5;241m=\u001b[39m glob\u001b[38;5;241m.\u001b[39mglob(\u001b[38;5;124mf\u001b[39m\u001b[38;5;124m'\u001b[39m\u001b[38;5;132;01m{\u001b[39;00m\u001b[43mexp_dir\u001b[49m\u001b[38;5;132;01m}\u001b[39;00m\u001b[38;5;124m/*.pkl\u001b[39m\u001b[38;5;124m'\u001b[39m)\n\u001b[0;32m      5\u001b[0m file \u001b[38;5;241m=\u001b[39m filelist[\u001b[38;5;241m0\u001b[39m]\n\u001b[0;32m      7\u001b[0m filename \u001b[38;5;241m=\u001b[39m os\u001b[38;5;241m.\u001b[39mpath\u001b[38;5;241m.\u001b[39mbasename(file)\n",
      "\u001b[1;31mNameError\u001b[0m: name 'exp_dir' is not defined"
     ]
    }
   ],
   "source": [
    "import glob, os\n",
    "\n",
    "directory = \"\\Desktop\\Stanford\\E. Coli\"\n",
    "filelist = glob.glob(f'{exp_dir}/*.pkl')\n",
    "file = filelist[0]\n",
    "\n",
    "filename = os.path.basename(file)\n",
    "filename_base = filename.removesuffix('.pkl')\n",
    "parts = filename_base.split('_')\n",
    "day = int(parts[1][1:])\n",
    "parts[-1]"
   ]
  },
  {
   "cell_type": "code",
   "execution_count": 47,
   "metadata": {},
   "outputs": [
    {
     "ename": "FileNotFoundError",
     "evalue": "[Errno 2] No such file or directory: 'Users\\\\cwash\\\\Desktop\\\\Stanford\\\\E. Coli\\\\07-11-2024_E.Coli Cell Counting OD600nm.xlsx'",
     "output_type": "error",
     "traceback": [
      "\u001b[1;31m---------------------------------------------------------------------------\u001b[0m",
      "\u001b[1;31mFileNotFoundError\u001b[0m                         Traceback (most recent call last)",
      "Cell \u001b[1;32mIn[47], line 11\u001b[0m\n\u001b[0;32m      8\u001b[0m directory \u001b[38;5;241m=\u001b[39m \u001b[38;5;124mr\u001b[39m\u001b[38;5;124m\"\u001b[39m\u001b[38;5;124mUsers\u001b[39m\u001b[38;5;124m\\\u001b[39m\u001b[38;5;124mcwash\u001b[39m\u001b[38;5;124m\\\u001b[39m\u001b[38;5;124mDesktop\u001b[39m\u001b[38;5;124m\\\u001b[39m\u001b[38;5;124mStanford\u001b[39m\u001b[38;5;124m\\\u001b[39m\u001b[38;5;124mE. Coli\u001b[39m\u001b[38;5;124m\"\u001b[39m\n\u001b[0;32m     10\u001b[0m \u001b[38;5;66;03m# Use pandas to read the source file\u001b[39;00m\n\u001b[1;32m---> 11\u001b[0m gc \u001b[38;5;241m=\u001b[39m \u001b[43mpd\u001b[49m\u001b[38;5;241;43m.\u001b[39;49m\u001b[43mread_excel\u001b[49m\u001b[43m(\u001b[49m\u001b[38;5;124;43mf\u001b[39;49m\u001b[38;5;124;43m'\u001b[39;49m\u001b[38;5;132;43;01m{\u001b[39;49;00m\u001b[43mdirectory\u001b[49m\u001b[38;5;132;43;01m}\u001b[39;49;00m\u001b[38;5;130;43;01m\\\\\u001b[39;49;00m\u001b[38;5;124;43m07-11-2024_E.Coli Cell Counting OD600nm.xlsx\u001b[39;49m\u001b[38;5;124;43m'\u001b[39;49m\u001b[43m)\u001b[49m\n\u001b[0;32m     13\u001b[0m \u001b[38;5;66;03m# Print the column names to inspect\u001b[39;00m\n\u001b[0;32m     14\u001b[0m \u001b[38;5;28mprint\u001b[39m(\u001b[38;5;124m\"\u001b[39m\u001b[38;5;124mOriginal column names:\u001b[39m\u001b[38;5;124m\"\u001b[39m, gc\u001b[38;5;241m.\u001b[39mcolumns)\n",
      "File \u001b[1;32mc:\\Python311\\Lib\\site-packages\\pandas\\io\\excel\\_base.py:495\u001b[0m, in \u001b[0;36mread_excel\u001b[1;34m(io, sheet_name, header, names, index_col, usecols, dtype, engine, converters, true_values, false_values, skiprows, nrows, na_values, keep_default_na, na_filter, verbose, parse_dates, date_parser, date_format, thousands, decimal, comment, skipfooter, storage_options, dtype_backend, engine_kwargs)\u001b[0m\n\u001b[0;32m    <a href='file:///c%3A/Python311/Lib/site-packages/pandas/io/excel/_base.py?line=492'>493</a>\u001b[0m \u001b[39mif\u001b[39;00m \u001b[39mnot\u001b[39;00m \u001b[39misinstance\u001b[39m(io, ExcelFile):\n\u001b[0;32m    <a href='file:///c%3A/Python311/Lib/site-packages/pandas/io/excel/_base.py?line=493'>494</a>\u001b[0m     should_close \u001b[39m=\u001b[39m \u001b[39mTrue\u001b[39;00m\n\u001b[1;32m--> <a href='file:///c%3A/Python311/Lib/site-packages/pandas/io/excel/_base.py?line=494'>495</a>\u001b[0m     io \u001b[39m=\u001b[39m ExcelFile(\n\u001b[0;32m    <a href='file:///c%3A/Python311/Lib/site-packages/pandas/io/excel/_base.py?line=495'>496</a>\u001b[0m         io,\n\u001b[0;32m    <a href='file:///c%3A/Python311/Lib/site-packages/pandas/io/excel/_base.py?line=496'>497</a>\u001b[0m         storage_options\u001b[39m=\u001b[39;49mstorage_options,\n\u001b[0;32m    <a href='file:///c%3A/Python311/Lib/site-packages/pandas/io/excel/_base.py?line=497'>498</a>\u001b[0m         engine\u001b[39m=\u001b[39;49mengine,\n\u001b[0;32m    <a href='file:///c%3A/Python311/Lib/site-packages/pandas/io/excel/_base.py?line=498'>499</a>\u001b[0m         engine_kwargs\u001b[39m=\u001b[39;49mengine_kwargs,\n\u001b[0;32m    <a href='file:///c%3A/Python311/Lib/site-packages/pandas/io/excel/_base.py?line=499'>500</a>\u001b[0m     )\n\u001b[0;32m    <a href='file:///c%3A/Python311/Lib/site-packages/pandas/io/excel/_base.py?line=500'>501</a>\u001b[0m \u001b[39melif\u001b[39;00m engine \u001b[39mand\u001b[39;00m engine \u001b[39m!=\u001b[39m io\u001b[39m.\u001b[39mengine:\n\u001b[0;32m    <a href='file:///c%3A/Python311/Lib/site-packages/pandas/io/excel/_base.py?line=501'>502</a>\u001b[0m     \u001b[39mraise\u001b[39;00m \u001b[39mValueError\u001b[39;00m(\n\u001b[0;32m    <a href='file:///c%3A/Python311/Lib/site-packages/pandas/io/excel/_base.py?line=502'>503</a>\u001b[0m         \u001b[39m\"\u001b[39m\u001b[39mEngine should not be specified when passing \u001b[39m\u001b[39m\"\u001b[39m\n\u001b[0;32m    <a href='file:///c%3A/Python311/Lib/site-packages/pandas/io/excel/_base.py?line=503'>504</a>\u001b[0m         \u001b[39m\"\u001b[39m\u001b[39man ExcelFile - ExcelFile already has the engine set\u001b[39m\u001b[39m\"\u001b[39m\n\u001b[0;32m    <a href='file:///c%3A/Python311/Lib/site-packages/pandas/io/excel/_base.py?line=504'>505</a>\u001b[0m     )\n",
      "File \u001b[1;32mc:\\Python311\\Lib\\site-packages\\pandas\\io\\excel\\_base.py:1550\u001b[0m, in \u001b[0;36mExcelFile.__init__\u001b[1;34m(self, path_or_buffer, engine, storage_options, engine_kwargs)\u001b[0m\n\u001b[0;32m   <a href='file:///c%3A/Python311/Lib/site-packages/pandas/io/excel/_base.py?line=1547'>1548</a>\u001b[0m     ext \u001b[39m=\u001b[39m \u001b[39m\"\u001b[39m\u001b[39mxls\u001b[39m\u001b[39m\"\u001b[39m\n\u001b[0;32m   <a href='file:///c%3A/Python311/Lib/site-packages/pandas/io/excel/_base.py?line=1548'>1549</a>\u001b[0m \u001b[39melse\u001b[39;00m:\n\u001b[1;32m-> <a href='file:///c%3A/Python311/Lib/site-packages/pandas/io/excel/_base.py?line=1549'>1550</a>\u001b[0m     ext \u001b[39m=\u001b[39m inspect_excel_format(\n\u001b[0;32m   <a href='file:///c%3A/Python311/Lib/site-packages/pandas/io/excel/_base.py?line=1550'>1551</a>\u001b[0m         content_or_path\u001b[39m=\u001b[39;49mpath_or_buffer, storage_options\u001b[39m=\u001b[39;49mstorage_options\n\u001b[0;32m   <a href='file:///c%3A/Python311/Lib/site-packages/pandas/io/excel/_base.py?line=1551'>1552</a>\u001b[0m     )\n\u001b[0;32m   <a href='file:///c%3A/Python311/Lib/site-packages/pandas/io/excel/_base.py?line=1552'>1553</a>\u001b[0m     \u001b[39mif\u001b[39;00m ext \u001b[39mis\u001b[39;00m \u001b[39mNone\u001b[39;00m:\n\u001b[0;32m   <a href='file:///c%3A/Python311/Lib/site-packages/pandas/io/excel/_base.py?line=1553'>1554</a>\u001b[0m         \u001b[39mraise\u001b[39;00m \u001b[39mValueError\u001b[39;00m(\n\u001b[0;32m   <a href='file:///c%3A/Python311/Lib/site-packages/pandas/io/excel/_base.py?line=1554'>1555</a>\u001b[0m             \u001b[39m\"\u001b[39m\u001b[39mExcel file format cannot be determined, you must specify \u001b[39m\u001b[39m\"\u001b[39m\n\u001b[0;32m   <a href='file:///c%3A/Python311/Lib/site-packages/pandas/io/excel/_base.py?line=1555'>1556</a>\u001b[0m             \u001b[39m\"\u001b[39m\u001b[39man engine manually.\u001b[39m\u001b[39m\"\u001b[39m\n\u001b[0;32m   <a href='file:///c%3A/Python311/Lib/site-packages/pandas/io/excel/_base.py?line=1556'>1557</a>\u001b[0m         )\n",
      "File \u001b[1;32mc:\\Python311\\Lib\\site-packages\\pandas\\io\\excel\\_base.py:1402\u001b[0m, in \u001b[0;36minspect_excel_format\u001b[1;34m(content_or_path, storage_options)\u001b[0m\n\u001b[0;32m   <a href='file:///c%3A/Python311/Lib/site-packages/pandas/io/excel/_base.py?line=1398'>1399</a>\u001b[0m \u001b[39mif\u001b[39;00m \u001b[39misinstance\u001b[39m(content_or_path, \u001b[39mbytes\u001b[39m):\n\u001b[0;32m   <a href='file:///c%3A/Python311/Lib/site-packages/pandas/io/excel/_base.py?line=1399'>1400</a>\u001b[0m     content_or_path \u001b[39m=\u001b[39m BytesIO(content_or_path)\n\u001b[1;32m-> <a href='file:///c%3A/Python311/Lib/site-packages/pandas/io/excel/_base.py?line=1401'>1402</a>\u001b[0m \u001b[39mwith\u001b[39;00m get_handle(\n\u001b[0;32m   <a href='file:///c%3A/Python311/Lib/site-packages/pandas/io/excel/_base.py?line=1402'>1403</a>\u001b[0m     content_or_path, \u001b[39m\"\u001b[39;49m\u001b[39mrb\u001b[39;49m\u001b[39m\"\u001b[39;49m, storage_options\u001b[39m=\u001b[39;49mstorage_options, is_text\u001b[39m=\u001b[39;49m\u001b[39mFalse\u001b[39;49;00m\n\u001b[0;32m   <a href='file:///c%3A/Python311/Lib/site-packages/pandas/io/excel/_base.py?line=1403'>1404</a>\u001b[0m ) \u001b[39mas\u001b[39;00m handle:\n\u001b[0;32m   <a href='file:///c%3A/Python311/Lib/site-packages/pandas/io/excel/_base.py?line=1404'>1405</a>\u001b[0m     stream \u001b[39m=\u001b[39m handle\u001b[39m.\u001b[39mhandle\n\u001b[0;32m   <a href='file:///c%3A/Python311/Lib/site-packages/pandas/io/excel/_base.py?line=1405'>1406</a>\u001b[0m     stream\u001b[39m.\u001b[39mseek(\u001b[39m0\u001b[39m)\n",
      "File \u001b[1;32mc:\\Python311\\Lib\\site-packages\\pandas\\io\\common.py:882\u001b[0m, in \u001b[0;36mget_handle\u001b[1;34m(path_or_buf, mode, encoding, compression, memory_map, is_text, errors, storage_options)\u001b[0m\n\u001b[0;32m    <a href='file:///c%3A/Python311/Lib/site-packages/pandas/io/common.py?line=872'>873</a>\u001b[0m         handle \u001b[39m=\u001b[39m \u001b[39mopen\u001b[39m(\n\u001b[0;32m    <a href='file:///c%3A/Python311/Lib/site-packages/pandas/io/common.py?line=873'>874</a>\u001b[0m             handle,\n\u001b[0;32m    <a href='file:///c%3A/Python311/Lib/site-packages/pandas/io/common.py?line=874'>875</a>\u001b[0m             ioargs\u001b[39m.\u001b[39mmode,\n\u001b[1;32m   (...)\u001b[0m\n\u001b[0;32m    <a href='file:///c%3A/Python311/Lib/site-packages/pandas/io/common.py?line=877'>878</a>\u001b[0m             newline\u001b[39m=\u001b[39m\u001b[39m\"\u001b[39m\u001b[39m\"\u001b[39m,\n\u001b[0;32m    <a href='file:///c%3A/Python311/Lib/site-packages/pandas/io/common.py?line=878'>879</a>\u001b[0m         )\n\u001b[0;32m    <a href='file:///c%3A/Python311/Lib/site-packages/pandas/io/common.py?line=879'>880</a>\u001b[0m     \u001b[39melse\u001b[39;00m:\n\u001b[0;32m    <a href='file:///c%3A/Python311/Lib/site-packages/pandas/io/common.py?line=880'>881</a>\u001b[0m         \u001b[39m# Binary mode\u001b[39;00m\n\u001b[1;32m--> <a href='file:///c%3A/Python311/Lib/site-packages/pandas/io/common.py?line=881'>882</a>\u001b[0m         handle \u001b[39m=\u001b[39m \u001b[39mopen\u001b[39m(handle, ioargs\u001b[39m.\u001b[39mmode)\n\u001b[0;32m    <a href='file:///c%3A/Python311/Lib/site-packages/pandas/io/common.py?line=882'>883</a>\u001b[0m     handles\u001b[39m.\u001b[39mappend(handle)\n\u001b[0;32m    <a href='file:///c%3A/Python311/Lib/site-packages/pandas/io/common.py?line=884'>885</a>\u001b[0m \u001b[39m# Convert BytesIO or file objects passed with an encoding\u001b[39;00m\n",
      "\u001b[1;31mFileNotFoundError\u001b[0m: [Errno 2] No such file or directory: 'Users\\\\cwash\\\\Desktop\\\\Stanford\\\\E. Coli\\\\07-11-2024_E.Coli Cell Counting OD600nm.xlsx'"
     ]
    }
   ],
   "source": [
    "import pandas as pd\n",
    "import seaborn as sns\n",
    "from matplotlib import pyplot as plt\n",
    "import warnings\n",
    "warnings.filterwarnings(\"ignore\")\n",
    "\n",
    "# Directory\n",
    "directory = r\"Users\\cwash\\Desktop\\Stanford\\E. Coli\"\n",
    "\n",
    "# Use pandas to read the source file\n",
    "gc = pd.read_excel(f'{directory}\\\\07-11-2024_E.Coli Cell Counting OD600nm.xlsx')\n",
    "\n",
    "# Print the column names to inspect\n",
    "print(\"Original column names:\", gc.columns)\n",
    "\n",
    "# Strip any leading or trailing spaces in the column names\n",
    "gc.columns = gc.columns.str.strip()\n",
    "\n",
    "# Print the column names again to verify they are correctly stripped\n",
    "print(\"Stripped column names:\", gc.columns)\n",
    "\n",
    "# Make a blank figure on an x-axis\n",
    "fig, ax = plt.subplots(figsize=[4, 4])\n",
    "\n",
    "# Plot the data\n",
    "sns.lineplot(data=gc, x='time', y='ln optical density', ci='sd', ax=ax, marker=\"o\", markersize=5, color='black')\n",
    "\n",
    "# Set labels and scale\n",
    "ax.set_ylabel('Culture density (cells/mL)', fontsize=9)\n",
    "ax.set_xlabel('Time', fontsize=9)\n",
    "\n",
    "# Set y and x limits and ticks\n",
    "ax.set_ylim(top=1e9)\n",
    "ax.set_xlim(right=5.6)\n",
    "ax.set_xticks([1, 2, 3, 4, 5])\n",
    "ax.tick_params(axis='both', labelsize=9)\n",
    "ax.spines[['right', 'top']].set_visible(False)\n",
    "ax.spines[['bottom', 'left']].set_linewidth(1.1)\n",
    "\n",
    "# Save as png and pdf\n",
    "plt.savefig('growth_curve.png', dpi=600)\n",
    "plt.savefig('growth_curve.pdf')"
   ]
  }
 ],
 "metadata": {
  "interpreter": {
   "hash": "c261aea317cc0286b3b3261fbba9abdec21eaa57589985bb7a274bf54d6cc0a7"
  },
  "kernelspec": {
   "display_name": "Python 3.11.0 64-bit",
   "language": "python",
   "name": "python3"
  },
  "language_info": {
   "codemirror_mode": {
    "name": "ipython",
    "version": 3
   },
   "file_extension": ".py",
   "mimetype": "text/x-python",
   "name": "python",
   "nbconvert_exporter": "python",
   "pygments_lexer": "ipython3",
   "version": "3.11.0"
  },
  "orig_nbformat": 4
 },
 "nbformat": 4,
 "nbformat_minor": 2
}
