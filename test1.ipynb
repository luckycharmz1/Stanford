{
 "cells": [
  {
   "cell_type": "code",
   "execution_count": 3,
   "metadata": {},
   "outputs": [
    {
     "ename": "SyntaxError",
     "evalue": "(unicode error) 'unicodeescape' codec can't decode bytes in position 2-3: truncated \\UXXXXXXXX escape (2442138984.py, line 8)",
     "output_type": "error",
     "traceback": [
      "\u001b[1;36m  Cell \u001b[1;32mIn[3], line 8\u001b[1;36m\u001b[0m\n\u001b[1;33m    directory = \"C:\\Users\\cwash\\Desktop\\Stanford\\E. Coli\"\u001b[0m\n\u001b[1;37m                                                         ^\u001b[0m\n\u001b[1;31mSyntaxError\u001b[0m\u001b[1;31m:\u001b[0m (unicode error) 'unicodeescape' codec can't decode bytes in position 2-3: truncated \\UXXXXXXXX escape\n"
     ]
    }
   ],
   "source": [
    "import pandas as pd\n",
    "import seaborn as sns\n",
    "from matplotlib import pyplot as plt\n",
    "import warnings\n",
    "warnings.filterwarnings(\"ignore\")\n",
    "\n",
    "#Directory\n",
    "directory = \"C:\\Users\\cwash\\Desktop\\Stanford\\E. Coli\"\n",
    "\n",
    "#Use panda to read source file\n",
    "gc = pd.read_excel(f{\"C:\\Users\\cwash\\Desktop\\Stanford\\E. Coli\\07-11-2024_E.Coli Cell Counting OD600nm.xlsx\"})\n",
    "\n",
    "\n",
    "fig,_ax = plt.subplots(figsize=[4,4]layout= 'constrained')\n",
    "\n",
    "sns.lineplot(data)"
   ]
  }
 ],
 "metadata": {
  "interpreter": {
   "hash": "c261aea317cc0286b3b3261fbba9abdec21eaa57589985bb7a274bf54d6cc0a7"
  },
  "kernelspec": {
   "display_name": "Python 3.11.0 64-bit",
   "language": "python",
   "name": "python3"
  },
  "language_info": {
   "name": "python",
   "version": "3.11.0"
  },
  "orig_nbformat": 4
 },
 "nbformat": 4,
 "nbformat_minor": 2
}
