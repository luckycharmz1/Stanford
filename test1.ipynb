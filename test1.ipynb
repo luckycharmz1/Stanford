{
 "cells": [
  {
   "cell_type": "code",
   "execution_count": 21,
   "metadata": {},
   "outputs": [
    {
     "ename": "IndexError",
     "evalue": "list index out of range",
     "output_type": "error",
     "traceback": [
      "\u001b[1;31m---------------------------------------------------------------------------\u001b[0m",
      "\u001b[1;31mIndexError\u001b[0m                                Traceback (most recent call last)",
      "Cell \u001b[1;32mIn[21], line 5\u001b[0m\n\u001b[0;32m      3\u001b[0m exp_dir \u001b[38;5;241m=\u001b[39m \u001b[38;5;124m\"\u001b[39m\u001b[38;5;124m\\\u001b[39m\u001b[38;5;124mDesktop\u001b[39m\u001b[38;5;124m\\\u001b[39m\u001b[38;5;124mStanford\u001b[39m\u001b[38;5;124m\\\u001b[39m\u001b[38;5;124mE. Coli\u001b[39m\u001b[38;5;124m\"\u001b[39m\n\u001b[0;32m      4\u001b[0m filelist \u001b[38;5;241m=\u001b[39m glob\u001b[38;5;241m.\u001b[39mglob(\u001b[38;5;124mf\u001b[39m\u001b[38;5;124m'\u001b[39m\u001b[38;5;132;01m{\u001b[39;00mexp_dir\u001b[38;5;132;01m}\u001b[39;00m\u001b[38;5;124m/*.pkl\u001b[39m\u001b[38;5;124m'\u001b[39m)\n\u001b[1;32m----> 5\u001b[0m file \u001b[38;5;241m=\u001b[39m \u001b[43mfilelist\u001b[49m\u001b[43m[\u001b[49m\u001b[38;5;241;43m0\u001b[39;49m\u001b[43m]\u001b[49m\n\u001b[0;32m      7\u001b[0m filename \u001b[38;5;241m=\u001b[39m os\u001b[38;5;241m.\u001b[39mpath\u001b[38;5;241m.\u001b[39mbasename(file)\n\u001b[0;32m      8\u001b[0m filename_base \u001b[38;5;241m=\u001b[39m filename\u001b[38;5;241m.\u001b[39mremovesuffix(\u001b[38;5;124m'\u001b[39m\u001b[38;5;124m.pkl\u001b[39m\u001b[38;5;124m'\u001b[39m)\n",
      "\u001b[1;31mIndexError\u001b[0m: list index out of range"
     ]
    }
   ],
   "source": [
    "import glob, os\n",
    "\n",
    "exp_dir = \"\\Desktop\\Stanford\\E. Coli\"\n",
    "filelist = glob.glob(f'{exp_dir}/*.pkl')\n",
    "file = filelist[0]\n",
    "\n",
    "filename = os.path.basename(file)\n",
    "filename_base = filename.removesuffix('.pkl')\n",
    "parts = filename_base.split('_')\n",
    "day = int(parts[1][1:])\n",
    "parts[-1]"
   ]
  },
  {
   "cell_type": "code",
   "execution_count": null,
   "metadata": {},
   "outputs": [
    {
     "ename": "ModuleNotFoundError",
     "evalue": "No module named 'pandas'",
     "output_type": "error",
     "traceback": [
      "\u001b[1;31m---------------------------------------------------------------------------\u001b[0m",
      "\u001b[1;31mModuleNotFoundError\u001b[0m                       Traceback (most recent call last)",
      "Cell \u001b[1;32mIn[19], line 1\u001b[0m\n\u001b[1;32m----> 1\u001b[0m \u001b[38;5;28;01mimport\u001b[39;00m \u001b[38;5;21;01mpandas\u001b[39;00m \u001b[38;5;28;01mas\u001b[39;00m \u001b[38;5;21;01mpd\u001b[39;00m\n\u001b[0;32m      2\u001b[0m \u001b[38;5;28;01mimport\u001b[39;00m \u001b[38;5;21;01mseaborn\u001b[39;00m \u001b[38;5;28;01mas\u001b[39;00m \u001b[38;5;21;01msns\u001b[39;00m\n\u001b[0;32m      3\u001b[0m \u001b[38;5;28;01mfrom\u001b[39;00m \u001b[38;5;21;01mmatplotlib\u001b[39;00m \u001b[38;5;28;01mimport\u001b[39;00m pyplot \u001b[38;5;28;01mas\u001b[39;00m plt\n",
      "\u001b[1;31mModuleNotFoundError\u001b[0m: No module named 'pandas'"
     ]
    }
   ],
   "source": [
    "import pandas as pd\n",
    "import seaborn as sns\n",
    "from matplotlib import pyplot as plt\n",
    "import warnings\n",
    "warnings.filterwarnings(\"ignore\")\n",
    "\n",
    "#Directory\n",
    "directory = \"\\Desktop\\Stanford\\E. Coli\"\n",
    "\n",
    "#Use panda to read source file\n",
    "gc = pd.read_excel(f'{exp_dir} \\07-11-2024_E.Coli Cell Counting OD600nm.xlsx\"')\n",
    "\n",
    "#make a blank figure on a x axis\n",
    "fig,_ax = plt.subplots(figsize=[4,4],layout= 'constrained')\n",
    "\n",
    "sns.lineplot(data=gc, x='time',y = 'ln optical density',errorbar='ci',ax=_ax, marker=\"o\",markersize=5, color='black')\n",
    "\n",
    "_ax.set_yscale('Ln Optical Density (OD600nm)')\n",
    "_ax.set_ylabel('Culture density (cells/mL)', fontsize=9)\n",
    "_ax.set_xlabel('Time', fontsize=9)\n",
    "\n",
    "_ax.set_ylim(top = 1e9)\n",
    "_ax.set_xlim(right = 5.6)\n",
    "_ax.set_xticks([1,2,3,4,5])\n",
    "_ax.tick_params(axis = 'both', labelsize=9)\n",
    "_ax.spines[['right', 'top']].set_visible(False)\n",
    "_ax.spines[['bottom', 'left']].set_linewidth(1.1)\n",
    "\n",
    "#save as png\n",
    "plt.savefig('growth_curve.png',dpi=600)\n",
    "\n",
    "#save as pdf\n",
    "plt.savefig('growth_curve.pdf')"
   ]
  }
 ],
 "metadata": {
  "interpreter": {
   "hash": "c261aea317cc0286b3b3261fbba9abdec21eaa57589985bb7a274bf54d6cc0a7"
  },
  "kernelspec": {
   "display_name": "Python 3.11.0 64-bit",
   "language": "python",
   "name": "python3"
  },
  "language_info": {
   "codemirror_mode": {
    "name": "ipython",
    "version": 3
   },
   "file_extension": ".py",
   "mimetype": "text/x-python",
   "name": "python",
   "nbconvert_exporter": "python",
   "pygments_lexer": "ipython3",
   "version": "3.11.0"
  },
  "orig_nbformat": 4
 },
 "nbformat": 4,
 "nbformat_minor": 2
}
