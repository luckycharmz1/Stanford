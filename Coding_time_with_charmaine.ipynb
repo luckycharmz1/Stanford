{
 "cells": [
  {
   "cell_type": "markdown",
   "metadata": {},
   "source": [
    "Example Jupyter notebook file."
   ]
  },
  {
   "cell_type": "code",
   "execution_count": 3,
   "metadata": {},
   "outputs": [
    {
     "name": "stdout",
     "output_type": "stream",
     "text": [
      "1\n",
      "2\n",
      "3\n",
      "2\n"
     ]
    }
   ],
   "source": [
    "# you can create variables\n",
    "var = 1+2\n",
    "\n",
    "# You can make vectors called lists\n",
    "ex_list = [1,2,3]\n",
    "\n",
    "# You can call basic functions\n",
    "add_the_example_list = sum(ex_list)\n",
    "\n",
    "# making for loops\n",
    "for item in ex_list:\n",
    "    print(item)\n",
    "\n",
    "# logical statements\n",
    "for item in ex_list:\n",
    "    if item == 2:\n",
    "        print(item)"
   ]
  },
  {
   "cell_type": "code",
   "execution_count": 4,
   "metadata": {},
   "outputs": [
    {
     "ename": "ModuleNotFoundError",
     "evalue": "No module named 'numpy'",
     "output_type": "error",
     "traceback": [
      "\u001b[1;31m---------------------------------------------------------------------------\u001b[0m",
      "\u001b[1;31mModuleNotFoundError\u001b[0m                       Traceback (most recent call last)",
      "Cell \u001b[1;32mIn[4], line 1\u001b[0m\n\u001b[1;32m----> 1\u001b[0m \u001b[38;5;28;01mimport\u001b[39;00m \u001b[38;5;21;01mnumpy\u001b[39;00m \u001b[38;5;28;01mas\u001b[39;00m \u001b[38;5;21;01mnp\u001b[39;00m\n\u001b[0;32m      2\u001b[0m np\u001b[38;5;241m.\u001b[39mlinspace(\u001b[38;5;241m0\u001b[39m,\u001b[38;5;241m5\u001b[39m,\u001b[38;5;241m500\u001b[39m)\n",
      "\u001b[1;31mModuleNotFoundError\u001b[0m: No module named 'numpy'"
     ]
    }
   ],
   "source": [
    "import numpy as np\n",
    "np.linspace(0,5,500)"
   ]
  },
  {
   "cell_type": "code",
   "execution_count": null,
   "metadata": {},
   "outputs": [
    {
     "data": {
      "text/plain": [
       "'R1'"
      ]
     },
     "execution_count": 23,
     "metadata": {},
     "output_type": "execute_result"
    }
   ],
   "source": [
    "import glob,os\n",
    "\n",
    "#glob lets you pull files out of a directory\n",
    "exp_dir = '/Volumes/Data_05/Shares/Data_05/Josh_McCausland/Projects/Bb_PG_Shedding/LCMS/QQQ/20240627-B31MI_supernatants/experiment/pickle_data'\n",
    "filelist = glob.glob(f'{exp_dir}/*.pkl')\n",
    "file = filelist[0]\n",
    "\n",
    "\n",
    "#os lets you edit file strings\n",
    "filename = os.path.basename(file)\n",
    "filename_base = filename.removesuffix('.pkl')\n",
    "parts = filename_base.split('_')\n",
    "day = int(parts[1][1:])\n",
    "parts[-1]"
   ]
  },
  {
   "cell_type": "code",
   "execution_count": 2,
   "metadata": {},
   "outputs": [
    {
     "ename": "ModuleNotFoundError",
     "evalue": "No module named 'pandas'",
     "output_type": "error",
     "traceback": [
      "\u001b[1;31m---------------------------------------------------------------------------\u001b[0m",
      "\u001b[1;31mModuleNotFoundError\u001b[0m                       Traceback (most recent call last)",
      "Cell \u001b[1;32mIn[2], line 2\u001b[0m\n\u001b[0;32m      1\u001b[0m \u001b[38;5;66;03m#basic growth curve\u001b[39;00m\n\u001b[1;32m----> 2\u001b[0m \u001b[38;5;28;01mimport\u001b[39;00m \u001b[38;5;21;01mpandas\u001b[39;00m \u001b[38;5;28;01mas\u001b[39;00m \u001b[38;5;21;01mpd\u001b[39;00m\n\u001b[0;32m      3\u001b[0m \u001b[38;5;28;01mimport\u001b[39;00m \u001b[38;5;21;01mseaborn\u001b[39;00m \u001b[38;5;28;01mas\u001b[39;00m \u001b[38;5;21;01msns\u001b[39;00m\n\u001b[0;32m      4\u001b[0m \u001b[38;5;28;01mfrom\u001b[39;00m \u001b[38;5;21;01mmatplotlib\u001b[39;00m \u001b[38;5;28;01mimport\u001b[39;00m pyplot \u001b[38;5;28;01mas\u001b[39;00m plt\n",
      "\u001b[1;31mModuleNotFoundError\u001b[0m: No module named 'pandas'"
     ]
    }
   ],
   "source": [
    "#basic growth curve\n",
    "import pandas as pd\n",
    "import seaborn as sns\n",
    "from matplotlib import pyplot as plt\n",
    "import warnings\n",
    "warnings.filterwarnings(\"ignore\")\n",
    "\n",
    "#Specifying my source directory\n",
    "experiment_directory = '/Volumes/Data_05/Shares/Data_05/Josh_McCausland/Projects/Bb_PG_Shedding/LCMS/QQQ/20240627-B31MI_supernatants'\n",
    "\n",
    "# use pandas to read the excel file. \n",
    "gc = pd.read_excel(f'{experiment_directory}/20240429-qqq_gc.xlsx')\n",
    "\n",
    "#make a blank figure and axis on which to plot. Figsize is in inches\n",
    "fig,_ax = plt.subplots(figsize=[2.5,2.5],layout = 'constrained')\n",
    "\n",
    "#Use seaborn to make a basic lineplot\n",
    "sns.lineplot(data=gc,x='day',y='density',errorbar='sd',ax=_ax,marker=\"o\",markersize=5,color='black')\n",
    "\n",
    "#Set axis parameters\n",
    "_ax.set_yscale('log')\n",
    "_ax.set_ylabel('Culture density (cells/ml)',fontsize=9)\n",
    "_ax.set_xlabel('Time (days)',fontsize=9)\n",
    "\n",
    "#make plot pretty\n",
    "_ax.set_ylim(top = 1e9)\n",
    "_ax.set_xlim(right = 5.6)\n",
    "_ax.set_xticks([1,2,3,4,5])\n",
    "_ax.tick_params(axis = 'both',labelsize=9)\n",
    "_ax.spines[['right','top']].set_visible(False)\n",
    "_ax.spines[['bottom','left']].set_linewidth(1.1)\n",
    "\n",
    "#save as png\n",
    "plt.savefig('growth_curve.png',dpi=600)\n",
    "\n",
    "#save as pdf\n",
    "plt.savefig('growth_curve.pdf')"
   ]
  },
  {
   "cell_type": "code",
   "execution_count": null,
   "metadata": {},
   "outputs": [
    {
     "data": {
      "text/html": [
       "<div>\n",
       "<style scoped>\n",
       "    .dataframe tbody tr th:only-of-type {\n",
       "        vertical-align: middle;\n",
       "    }\n",
       "\n",
       "    .dataframe tbody tr th {\n",
       "        vertical-align: top;\n",
       "    }\n",
       "\n",
       "    .dataframe thead th {\n",
       "        text-align: right;\n",
       "    }\n",
       "</style>\n",
       "<table border=\"1\" class=\"dataframe\">\n",
       "  <thead>\n",
       "    <tr style=\"text-align: right;\">\n",
       "      <th></th>\n",
       "      <th>1</th>\n",
       "      <th>2</th>\n",
       "    </tr>\n",
       "  </thead>\n",
       "  <tbody>\n",
       "    <tr>\n",
       "      <th>0</th>\n",
       "      <td>1</td>\n",
       "      <td>4</td>\n",
       "    </tr>\n",
       "    <tr>\n",
       "      <th>1</th>\n",
       "      <td>2</td>\n",
       "      <td>5</td>\n",
       "    </tr>\n",
       "    <tr>\n",
       "      <th>2</th>\n",
       "      <td>3</td>\n",
       "      <td>6</td>\n",
       "    </tr>\n",
       "  </tbody>\n",
       "</table>\n",
       "</div>"
      ],
      "text/plain": [
       "   1  2\n",
       "0  1  4\n",
       "1  2  5\n",
       "2  3  6"
      ]
     },
     "execution_count": 39,
     "metadata": {},
     "output_type": "execute_result"
    }
   ],
   "source": [
    "test_dataframe"
   ]
  },
  {
   "cell_type": "code",
   "execution_count": null,
   "metadata": {},
   "outputs": [
    {
     "data": {
      "text/plain": [
       "1     6\n",
       "2    15\n",
       "dtype: int64"
      ]
     },
     "execution_count": 51,
     "metadata": {},
     "output_type": "execute_result"
    }
   ],
   "source": [
    "#object based coding\n",
    "\n",
    "# first make a basic function\n",
    "def add_some_numbers(list):\n",
    "    return sum(list)\n",
    "\n",
    "ex_list = [1,2,3]\n",
    "add_some_numbers(ex_list)\n",
    "\n",
    "#class variable\n",
    "class test_addition:\n",
    "    def __init__(self):\n",
    "        self.df = pd.DataFrame()\n",
    "\n",
    "    def __call__(self,df):\n",
    "        self.df = df\n",
    "\n",
    "    def return_the_dataframe(self):\n",
    "        df = self.df\n",
    "        return df\n",
    "    \n",
    "    def sum_the_dataframe(self):\n",
    "        return self.df.apply(np.sum)\n",
    "\n",
    "test_dataframe = pd.DataFrame({1: [1,2,3], 2: [4,5,6]})\n",
    "\n",
    "tdf = test_addition()\n",
    "tdf(test_dataframe)\n",
    "tdf.sum_the_dataframe()"
   ]
  }
 ],
 "metadata": {
  "interpreter": {
   "hash": "c261aea317cc0286b3b3261fbba9abdec21eaa57589985bb7a274bf54d6cc0a7"
  },
  "kernelspec": {
   "display_name": "Python 3.11.0 64-bit",
   "language": "python",
   "name": "python3"
  },
  "language_info": {
   "codemirror_mode": {
    "name": "ipython",
    "version": 3
   },
   "file_extension": ".py",
   "mimetype": "text/x-python",
   "name": "python",
   "nbconvert_exporter": "python",
   "pygments_lexer": "ipython3",
   "version": "3.11.0"
  }
 },
 "nbformat": 4,
 "nbformat_minor": 2
}
