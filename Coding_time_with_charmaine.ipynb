{
 "cells": [
  {
   "cell_type": "markdown",
   "metadata": {},
   "source": [
    "Example Jupyter notebook file."
   ]
  },
  {
   "cell_type": "code",
   "execution_count": 5,
   "metadata": {},
   "outputs": [
    {
     "name": "stdout",
     "output_type": "stream",
     "text": [
      "1\n",
      "2\n",
      "3\n",
      "2\n"
     ]
    }
   ],
   "source": [
    "# you can create variables\n",
    "var = 1+2\n",
    "\n",
    "# You can make vectors called lists\n",
    "ex_list = [1,2,3]\n",
    "\n",
    "# You can call basic functions\n",
    "add_the_example_list = sum(ex_list)\n",
    "\n",
    "# making for loops\n",
    "for item in ex_list:\n",
    "    print(item)\n",
    "\n",
    "# logical statements\n",
    "for item in ex_list:\n",
    "    if item == 2:\n",
    "        print(item)"
   ]
  },
  {
   "cell_type": "code",
   "execution_count": 6,
   "metadata": {},
   "outputs": [
    {
     "data": {
      "text/plain": [
       "array([0.        , 0.01002004, 0.02004008, 0.03006012, 0.04008016,\n",
       "       0.0501002 , 0.06012024, 0.07014028, 0.08016032, 0.09018036,\n",
       "       0.1002004 , 0.11022044, 0.12024048, 0.13026052, 0.14028056,\n",
       "       0.1503006 , 0.16032064, 0.17034068, 0.18036072, 0.19038076,\n",
       "       0.2004008 , 0.21042084, 0.22044088, 0.23046092, 0.24048096,\n",
       "       0.250501  , 0.26052104, 0.27054108, 0.28056112, 0.29058116,\n",
       "       0.3006012 , 0.31062124, 0.32064128, 0.33066132, 0.34068136,\n",
       "       0.3507014 , 0.36072144, 0.37074148, 0.38076152, 0.39078156,\n",
       "       0.4008016 , 0.41082164, 0.42084168, 0.43086172, 0.44088176,\n",
       "       0.4509018 , 0.46092184, 0.47094188, 0.48096192, 0.49098196,\n",
       "       0.501002  , 0.51102204, 0.52104208, 0.53106212, 0.54108216,\n",
       "       0.5511022 , 0.56112224, 0.57114228, 0.58116232, 0.59118236,\n",
       "       0.6012024 , 0.61122244, 0.62124248, 0.63126253, 0.64128257,\n",
       "       0.65130261, 0.66132265, 0.67134269, 0.68136273, 0.69138277,\n",
       "       0.70140281, 0.71142285, 0.72144289, 0.73146293, 0.74148297,\n",
       "       0.75150301, 0.76152305, 0.77154309, 0.78156313, 0.79158317,\n",
       "       0.80160321, 0.81162325, 0.82164329, 0.83166333, 0.84168337,\n",
       "       0.85170341, 0.86172345, 0.87174349, 0.88176353, 0.89178357,\n",
       "       0.90180361, 0.91182365, 0.92184369, 0.93186373, 0.94188377,\n",
       "       0.95190381, 0.96192385, 0.97194389, 0.98196393, 0.99198397,\n",
       "       1.00200401, 1.01202405, 1.02204409, 1.03206413, 1.04208417,\n",
       "       1.05210421, 1.06212425, 1.07214429, 1.08216433, 1.09218437,\n",
       "       1.10220441, 1.11222445, 1.12224449, 1.13226453, 1.14228457,\n",
       "       1.15230461, 1.16232465, 1.17234469, 1.18236473, 1.19238477,\n",
       "       1.20240481, 1.21242485, 1.22244489, 1.23246493, 1.24248497,\n",
       "       1.25250501, 1.26252505, 1.27254509, 1.28256513, 1.29258517,\n",
       "       1.30260521, 1.31262525, 1.32264529, 1.33266533, 1.34268537,\n",
       "       1.35270541, 1.36272545, 1.37274549, 1.38276553, 1.39278557,\n",
       "       1.40280561, 1.41282565, 1.42284569, 1.43286573, 1.44288577,\n",
       "       1.45290581, 1.46292585, 1.47294589, 1.48296593, 1.49298597,\n",
       "       1.50300601, 1.51302605, 1.52304609, 1.53306613, 1.54308617,\n",
       "       1.55310621, 1.56312625, 1.57314629, 1.58316633, 1.59318637,\n",
       "       1.60320641, 1.61322645, 1.62324649, 1.63326653, 1.64328657,\n",
       "       1.65330661, 1.66332665, 1.67334669, 1.68336673, 1.69338677,\n",
       "       1.70340681, 1.71342685, 1.72344689, 1.73346693, 1.74348697,\n",
       "       1.75350701, 1.76352705, 1.77354709, 1.78356713, 1.79358717,\n",
       "       1.80360721, 1.81362725, 1.82364729, 1.83366733, 1.84368737,\n",
       "       1.85370741, 1.86372745, 1.87374749, 1.88376754, 1.89378758,\n",
       "       1.90380762, 1.91382766, 1.9238477 , 1.93386774, 1.94388778,\n",
       "       1.95390782, 1.96392786, 1.9739479 , 1.98396794, 1.99398798,\n",
       "       2.00400802, 2.01402806, 2.0240481 , 2.03406814, 2.04408818,\n",
       "       2.05410822, 2.06412826, 2.0741483 , 2.08416834, 2.09418838,\n",
       "       2.10420842, 2.11422846, 2.1242485 , 2.13426854, 2.14428858,\n",
       "       2.15430862, 2.16432866, 2.1743487 , 2.18436874, 2.19438878,\n",
       "       2.20440882, 2.21442886, 2.2244489 , 2.23446894, 2.24448898,\n",
       "       2.25450902, 2.26452906, 2.2745491 , 2.28456914, 2.29458918,\n",
       "       2.30460922, 2.31462926, 2.3246493 , 2.33466934, 2.34468938,\n",
       "       2.35470942, 2.36472946, 2.3747495 , 2.38476954, 2.39478958,\n",
       "       2.40480962, 2.41482966, 2.4248497 , 2.43486974, 2.44488978,\n",
       "       2.45490982, 2.46492986, 2.4749499 , 2.48496994, 2.49498998,\n",
       "       2.50501002, 2.51503006, 2.5250501 , 2.53507014, 2.54509018,\n",
       "       2.55511022, 2.56513026, 2.5751503 , 2.58517034, 2.59519038,\n",
       "       2.60521042, 2.61523046, 2.6252505 , 2.63527054, 2.64529058,\n",
       "       2.65531062, 2.66533066, 2.6753507 , 2.68537074, 2.69539078,\n",
       "       2.70541082, 2.71543086, 2.7254509 , 2.73547094, 2.74549098,\n",
       "       2.75551102, 2.76553106, 2.7755511 , 2.78557114, 2.79559118,\n",
       "       2.80561122, 2.81563126, 2.8256513 , 2.83567134, 2.84569138,\n",
       "       2.85571142, 2.86573146, 2.8757515 , 2.88577154, 2.89579158,\n",
       "       2.90581162, 2.91583166, 2.9258517 , 2.93587174, 2.94589178,\n",
       "       2.95591182, 2.96593186, 2.9759519 , 2.98597194, 2.99599198,\n",
       "       3.00601202, 3.01603206, 3.0260521 , 3.03607214, 3.04609218,\n",
       "       3.05611222, 3.06613226, 3.0761523 , 3.08617234, 3.09619238,\n",
       "       3.10621242, 3.11623246, 3.12625251, 3.13627255, 3.14629259,\n",
       "       3.15631263, 3.16633267, 3.17635271, 3.18637275, 3.19639279,\n",
       "       3.20641283, 3.21643287, 3.22645291, 3.23647295, 3.24649299,\n",
       "       3.25651303, 3.26653307, 3.27655311, 3.28657315, 3.29659319,\n",
       "       3.30661323, 3.31663327, 3.32665331, 3.33667335, 3.34669339,\n",
       "       3.35671343, 3.36673347, 3.37675351, 3.38677355, 3.39679359,\n",
       "       3.40681363, 3.41683367, 3.42685371, 3.43687375, 3.44689379,\n",
       "       3.45691383, 3.46693387, 3.47695391, 3.48697395, 3.49699399,\n",
       "       3.50701403, 3.51703407, 3.52705411, 3.53707415, 3.54709419,\n",
       "       3.55711423, 3.56713427, 3.57715431, 3.58717435, 3.59719439,\n",
       "       3.60721443, 3.61723447, 3.62725451, 3.63727455, 3.64729459,\n",
       "       3.65731463, 3.66733467, 3.67735471, 3.68737475, 3.69739479,\n",
       "       3.70741483, 3.71743487, 3.72745491, 3.73747495, 3.74749499,\n",
       "       3.75751503, 3.76753507, 3.77755511, 3.78757515, 3.79759519,\n",
       "       3.80761523, 3.81763527, 3.82765531, 3.83767535, 3.84769539,\n",
       "       3.85771543, 3.86773547, 3.87775551, 3.88777555, 3.89779559,\n",
       "       3.90781563, 3.91783567, 3.92785571, 3.93787575, 3.94789579,\n",
       "       3.95791583, 3.96793587, 3.97795591, 3.98797595, 3.99799599,\n",
       "       4.00801603, 4.01803607, 4.02805611, 4.03807615, 4.04809619,\n",
       "       4.05811623, 4.06813627, 4.07815631, 4.08817635, 4.09819639,\n",
       "       4.10821643, 4.11823647, 4.12825651, 4.13827655, 4.14829659,\n",
       "       4.15831663, 4.16833667, 4.17835671, 4.18837675, 4.19839679,\n",
       "       4.20841683, 4.21843687, 4.22845691, 4.23847695, 4.24849699,\n",
       "       4.25851703, 4.26853707, 4.27855711, 4.28857715, 4.29859719,\n",
       "       4.30861723, 4.31863727, 4.32865731, 4.33867735, 4.34869739,\n",
       "       4.35871743, 4.36873747, 4.37875752, 4.38877756, 4.3987976 ,\n",
       "       4.40881764, 4.41883768, 4.42885772, 4.43887776, 4.4488978 ,\n",
       "       4.45891784, 4.46893788, 4.47895792, 4.48897796, 4.498998  ,\n",
       "       4.50901804, 4.51903808, 4.52905812, 4.53907816, 4.5490982 ,\n",
       "       4.55911824, 4.56913828, 4.57915832, 4.58917836, 4.5991984 ,\n",
       "       4.60921844, 4.61923848, 4.62925852, 4.63927856, 4.6492986 ,\n",
       "       4.65931864, 4.66933868, 4.67935872, 4.68937876, 4.6993988 ,\n",
       "       4.70941884, 4.71943888, 4.72945892, 4.73947896, 4.749499  ,\n",
       "       4.75951904, 4.76953908, 4.77955912, 4.78957916, 4.7995992 ,\n",
       "       4.80961924, 4.81963928, 4.82965932, 4.83967936, 4.8496994 ,\n",
       "       4.85971944, 4.86973948, 4.87975952, 4.88977956, 4.8997996 ,\n",
       "       4.90981964, 4.91983968, 4.92985972, 4.93987976, 4.9498998 ,\n",
       "       4.95991984, 4.96993988, 4.97995992, 4.98997996, 5.        ])"
      ]
     },
     "execution_count": 6,
     "metadata": {},
     "output_type": "execute_result"
    }
   ],
   "source": [
    "import numpy as np\n",
    "np.linspace(0,5,500)"
   ]
  },
  {
   "cell_type": "code",
   "execution_count": 23,
   "metadata": {},
   "outputs": [
    {
     "data": {
      "text/plain": [
       "'R1'"
      ]
     },
     "execution_count": 23,
     "metadata": {},
     "output_type": "execute_result"
    }
   ],
   "source": [
    "import glob,os\n",
    "\n",
    "#glob lets you pull files out of a directory\n",
    "exp_dir = '/Volumes/Data_05/Shares/Data_05/Josh_McCausland/Projects/Bb_PG_Shedding/LCMS/QQQ/20240627-B31MI_supernatants/experiment/pickle_data'\n",
    "filelist = glob.glob(f'{exp_dir}/*.pkl')\n",
    "file = filelist[0]\n",
    "\n",
    "\n",
    "#os lets you edit file strings\n",
    "filename = os.path.basename(file)\n",
    "filename_base = filename.removesuffix('.pkl')\n",
    "parts = filename_base.split('_')\n",
    "day = int(parts[1][1:])\n",
    "parts[-1]"
   ]
  },
  {
   "cell_type": "code",
   "execution_count": 34,
   "metadata": {},
   "outputs": [
    {
     "data": {
      "image/png": "[encoded data removed]",
      "text/plain": [
       "<Figure size 250x250 with 1 Axes>"
      ]
     },
     "metadata": {},
     "output_type": "display_data"
    }
   ],
   "source": [
    "#basic growth curve\n",
    "import pandas as pd\n",
    "import seaborn as sns\n",
    "from matplotlib import pyplot as plt\n",
    "import warnings\n",
    "warnings.filterwarnings(\"ignore\")\n",
    "\n",
    "#Specifying my source directory\n",
    "experiment_directory = '/Volumes/Data_05/Shares/Data_05/Josh_McCausland/Projects/Bb_PG_Shedding/LCMS/QQQ/20240627-B31MI_supernatants'\n",
    "\n",
    "# use pandas to read the excel file. \n",
    "gc = pd.read_excel(f'{experiment_directory}/20240429-qqq_gc.xlsx')\n",
    "\n",
    "#make a blank figure and axis on which to plot. Figsize is in inches\n",
    "fig,_ax = plt.subplots(figsize=[2.5,2.5],layout = 'constrained')\n",
    "\n",
    "#Use seaborn to make a basic lineplot\n",
    "sns.lineplot(data=gc,x='day',y='density',errorbar='sd',ax=_ax,marker=\"o\",markersize=5,color='black')\n",
    "\n",
    "#Set axis parameters\n",
    "_ax.set_yscale('log')\n",
    "_ax.set_ylabel('Culture density (cells/ml)',fontsize=9)\n",
    "_ax.set_xlabel('Time (days)',fontsize=9)\n",
    "\n",
    "#make plot pretty\n",
    "_ax.set_ylim(top = 1e9)\n",
    "_ax.set_xlim(right = 5.6)\n",
    "_ax.set_xticks([1,2,3,4,5])\n",
    "_ax.tick_params(axis = 'both',labelsize=9)\n",
    "_ax.spines[['right','top']].set_visible(False)\n",
    "_ax.spines[['bottom','left']].set_linewidth(1.1)\n",
    "\n",
    "#save as png\n",
    "plt.savefig('growth_curve.png',dpi=600)\n",
    "\n",
    "#save as pdf\n",
    "plt.savefig('growth_curve.pdf')"
   ]
  },
  {
   "cell_type": "code",
   "execution_count": 39,
   "metadata": {},
   "outputs": [
    {
     "data": {
      "text/html": [
       "<div>\n",
       "<style scoped>\n",
       "    .dataframe tbody tr th:only-of-type {\n",
       "        vertical-align: middle;\n",
       "    }\n",
       "\n",
       "    .dataframe tbody tr th {\n",
       "        vertical-align: top;\n",
       "    }\n",
       "\n",
       "    .dataframe thead th {\n",
       "        text-align: right;\n",
       "    }\n",
       "</style>\n",
       "<table border=\"1\" class=\"dataframe\">\n",
       "  <thead>\n",
       "    <tr style=\"text-align: right;\">\n",
       "      <th></th>\n",
       "      <th>1</th>\n",
       "      <th>2</th>\n",
       "    </tr>\n",
       "  </thead>\n",
       "  <tbody>\n",
       "    <tr>\n",
       "      <th>0</th>\n",
       "      <td>1</td>\n",
       "      <td>4</td>\n",
       "    </tr>\n",
       "    <tr>\n",
       "      <th>1</th>\n",
       "      <td>2</td>\n",
       "      <td>5</td>\n",
       "    </tr>\n",
       "    <tr>\n",
       "      <th>2</th>\n",
       "      <td>3</td>\n",
       "      <td>6</td>\n",
       "    </tr>\n",
       "  </tbody>\n",
       "</table>\n",
       "</div>"
      ],
      "text/plain": [
       "   1  2\n",
       "0  1  4\n",
       "1  2  5\n",
       "2  3  6"
      ]
     },
     "execution_count": 39,
     "metadata": {},
     "output_type": "execute_result"
    }
   ],
   "source": [
    "test_dataframe"
   ]
  },
  {
   "cell_type": "code",
   "execution_count": 51,
   "metadata": {},
   "outputs": [
    {
     "data": {
      "text/plain": [
       "1     6\n",
       "2    15\n",
       "dtype: int64"
      ]
     },
     "execution_count": 51,
     "metadata": {},
     "output_type": "execute_result"
    }
   ],
   "source": [
    "#object based coding\n",
    "\n",
    "# first make a basic function\n",
    "def add_some_numbers(list):\n",
    "    return sum(list)\n",
    "\n",
    "ex_list = [1,2,3]\n",
    "add_some_numbers(ex_list)\n",
    "\n",
    "#class variable\n",
    "class test_addition:\n",
    "    def __init__(self):\n",
    "        self.df = pd.DataFrame()\n",
    "\n",
    "    def __call__(self,df):\n",
    "        self.df = df\n",
    "\n",
    "    def return_the_dataframe(self):\n",
    "        df = self.df\n",
    "        return df\n",
    "    \n",
    "    def sum_the_dataframe(self):\n",
    "        return self.df.apply(np.sum)\n",
    "\n",
    "test_dataframe = pd.DataFrame({1: [1,2,3], 2: [4,5,6]})\n",
    "\n",
    "tdf = test_addition()\n",
    "tdf(test_dataframe)\n",
    "tdf.sum_the_dataframe()"
   ]
  }
 ],
 "metadata": {
  "kernelspec": {
   "display_name": "Python 3",
   "language": "python",
   "name": "python3"
  },
  "language_info": {
   "codemirror_mode": {
    "name": "ipython",
    "version": 3
   },
   "file_extension": ".py",
   "mimetype": "text/x-python",
   "name": "python",
   "nbconvert_exporter": "python",
   "pygments_lexer": "ipython3",
   "version": "3.10.14"
  }
 },
 "nbformat": 4,
 "nbformat_minor": 2
}
